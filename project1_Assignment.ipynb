{
 "cells": [
  {
   "cell_type": "code",
   "execution_count": 1,
   "metadata": {},
   "outputs": [],
   "source": [
    "def people():\n",
    "    import os\n",
    "    return os.listdir('universe')"
   ]
  },
  {
   "cell_type": "code",
   "execution_count": 2,
   "metadata": {},
   "outputs": [],
   "source": [
    "def rebuild():\n",
    "    import os\n",
    "    from shutil import copyfile\n",
    "    import time\n",
    "    peoples = os.listdir('backup')\n",
    "    for i in range(len(peoples)):\n",
    "        copyfile(f'backup/{peoples[i]}', f'universe/{peoples[i]}')\n",
    "        print (f'Copy Guy number {i+1} : {peoples[i]}' )\n",
    "        time.sleep(0.5)\n",
    "    print (f'100%\\nHello in the new world ^_^' )"
   ]
  },
  {
   "cell_type": "code",
   "execution_count": 3,
   "metadata": {},
   "outputs": [],
   "source": [
    "def rebuild_random():\n",
    "    import os\n",
    "    from shutil import copyfile\n",
    "    import time\n",
    "    import random\n",
    "    import string\n",
    "    \n",
    "    peoples = os.listdir('backup')\n",
    "    new_peoples = random.sample(string.ascii_letters,len(peoples)+1)\n",
    "                \n",
    "    for i in range(len(peoples)):\n",
    "        copyfile(f'backup/{peoples[i]}', f'universe/{(new_peoples[i]+new_peoples[i+1])+str(random.randrange(10000))}.jpg')\n",
    "        print (f'Copy Guy number {i+1} : {(new_peoples[i]+new_peoples[i+1])+str(random.randrange(10000))}' )\n",
    "        time.sleep(0.5)\n",
    "    print (f'100%\\nHello in the new world ^_^' )"
   ]
  },
  {
   "cell_type": "code",
   "execution_count": 4,
   "metadata": {},
   "outputs": [],
   "source": [
    "def thanos():\n",
    "    import os\n",
    "    import random\n",
    "    import time\n",
    "    \n",
    "    peoples = people()\n",
    "    \n",
    "    if len(peoples) == 0:\n",
    "        print (f'No one is alive so we will rebuild the world :-' )\n",
    "        select = int(input ('Enter \"1\" to rebuild with original names or \"2\" to rebuild with random names\\n'))\n",
    "        if select == 1:\n",
    "            rebuild()\n",
    "        elif select == 2:\n",
    "            rebuild_random()\n",
    "        else:\n",
    "            print('Wrong Answer')\n",
    "\n",
    "    elif len(peoples) == 1:\n",
    "        os.remove(f'universe/{peoples[0]}')\n",
    "        print (f'Fall Guy number {1} : {peoples[0]}' )\n",
    "        time.sleep(0.5)\n",
    "        print (f'XXXXXXXX Congrats!! You killed the last one XXXXXXXX' )\n",
    "        \n",
    "    \n",
    "    else :\n",
    "        for i in range(len(peoples)//2):\n",
    "            dieFile = peoples[random.randrange(len(peoples))]\n",
    "            os.remove(f'universe/{dieFile}')\n",
    "            print (f'Fall Guy number {i+1} : {dieFile}' )\n",
    "            peoples.remove(dieFile)\n",
    "            time.sleep(0.5)\n",
    "        print (f'You killed {i+1} file X_X and {len(peoples)} alive' )"
   ]
  },
  {
   "cell_type": "code",
   "execution_count": null,
   "metadata": {},
   "outputs": [],
   "source": [
    "people()"
   ]
  },
  {
   "cell_type": "code",
   "execution_count": null,
   "metadata": {},
   "outputs": [],
   "source": [
    "rebuild()"
   ]
  },
  {
   "cell_type": "code",
   "execution_count": null,
   "metadata": {},
   "outputs": [],
   "source": [
    "rebuild_random()"
   ]
  },
  {
   "cell_type": "code",
   "execution_count": 14,
   "metadata": {},
   "outputs": [
    {
     "name": "stdout",
     "output_type": "stream",
     "text": [
      "No one is alive so we will rebuild the world :-\n",
      "Enter \"1\" to rebuild with original names or \"2\" to rebuild with random names\n",
      "2\n",
      "Copy Guy number 1 : bX5065\n",
      "Copy Guy number 2 : XP5333\n",
      "Copy Guy number 3 : Pc2103\n",
      "Copy Guy number 4 : cj6662\n",
      "Copy Guy number 5 : jU7149\n",
      "Copy Guy number 6 : Uh8969\n",
      "Copy Guy number 7 : ht3780\n",
      "Copy Guy number 8 : te8833\n",
      "Copy Guy number 9 : eo6928\n",
      "Copy Guy number 10 : ox5002\n",
      "Copy Guy number 11 : xV7310\n",
      "Copy Guy number 12 : Vv6937\n",
      "Copy Guy number 13 : vy84\n",
      "Copy Guy number 14 : yB8740\n",
      "Copy Guy number 15 : BW549\n",
      "Copy Guy number 16 : Wl2386\n",
      "Copy Guy number 17 : lZ2050\n",
      "Copy Guy number 18 : Zf1138\n",
      "Copy Guy number 19 : fH5283\n",
      "Copy Guy number 20 : HY2689\n",
      "Copy Guy number 21 : Yq2265\n",
      "Copy Guy number 22 : qg4275\n",
      "Copy Guy number 23 : gF6337\n",
      "Copy Guy number 24 : FQ7869\n",
      "Copy Guy number 25 : Qs2478\n",
      "Copy Guy number 26 : su8892\n",
      "Copy Guy number 27 : uO4014\n",
      "Copy Guy number 28 : Od8205\n",
      "Copy Guy number 29 : dA3629\n",
      "Copy Guy number 30 : AK8599\n",
      "Copy Guy number 31 : Ki1661\n",
      "Copy Guy number 32 : iC5090\n",
      "Copy Guy number 33 : CT9544\n",
      "Copy Guy number 34 : TE7568\n",
      "Copy Guy number 35 : Ea7984\n",
      "Copy Guy number 36 : an147\n",
      "Copy Guy number 37 : nG9132\n",
      "Copy Guy number 38 : Gz5687\n",
      "Copy Guy number 39 : zL2888\n",
      "Copy Guy number 40 : LS336\n",
      "Copy Guy number 41 : Sk8792\n",
      "Copy Guy number 42 : km3718\n",
      "Copy Guy number 43 : mD6244\n",
      "Copy Guy number 44 : DR4317\n",
      "Copy Guy number 45 : RJ4133\n",
      "Copy Guy number 46 : JN2930\n",
      "Copy Guy number 47 : NM7027\n",
      "Copy Guy number 48 : Mp7440\n",
      "Copy Guy number 49 : pr2985\n",
      "Copy Guy number 50 : rw6334\n",
      "100%\n",
      "Hello in the new world ^_^\n"
     ]
    }
   ],
   "source": [
    "thanos()"
   ]
  },
  {
   "cell_type": "code",
   "execution_count": null,
   "metadata": {},
   "outputs": [],
   "source": []
  }
 ],
 "metadata": {
  "kernelspec": {
   "display_name": "Python 3",
   "language": "python",
   "name": "python3"
  },
  "language_info": {
   "codemirror_mode": {
    "name": "ipython",
    "version": 3
   },
   "file_extension": ".py",
   "mimetype": "text/x-python",
   "name": "python",
   "nbconvert_exporter": "python",
   "pygments_lexer": "ipython3",
   "version": "3.7.6"
  }
 },
 "nbformat": 4,
 "nbformat_minor": 4
}
